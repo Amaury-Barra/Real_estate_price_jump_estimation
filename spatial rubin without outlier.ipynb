{
 "cells": [
  {
   "cell_type": "code",
   "execution_count": 137,
   "metadata": {},
   "outputs": [
    {
     "name": "stdout",
     "output_type": "stream",
     "text": [
      "libraries imported\n"
     ]
    }
   ],
   "source": [
    "import geopandas as gpd\n",
    "import pandas as pd\n",
    "import folium\n",
    "import json\n",
    "from folium import plugins\n",
    "from IPython.display import display\n",
    "from IPython.display import HTML, display\n",
    "%matplotlib inline \n",
    "\n",
    "import matplotlib as mpl\n",
    "import matplotlib.pyplot as plt\n",
    "import seaborn as sns\n",
    "\n",
    "import numpy as np\n",
    "import geojsonio\n",
    "import io\n",
    "import pickle\n",
    "import matplotlib.pyplot as plt \n",
    "from sklearn.cluster import KMeans\n",
    "from sklearn.preprocessing import StandardScaler\n",
    "\n",
    "import pyproj as proj\n",
    "from pyproj import Transformer\n",
    "\n",
    "from shapely.geometry import Point, Polygon\n",
    "\n",
    "from shapely import geometry\n",
    "\n",
    "mpl.style.use('ggplot')\n",
    "print('libraries imported')"
   ]
  },
  {
   "cell_type": "markdown",
   "metadata": {},
   "source": [
    "# Downloading and preparing dataset of underground location"
   ]
  },
  {
   "cell_type": "code",
   "execution_count": 160,
   "metadata": {},
   "outputs": [
    {
     "data": {
      "text/html": [
       "<div>\n",
       "<style scoped>\n",
       "    .dataframe tbody tr th:only-of-type {\n",
       "        vertical-align: middle;\n",
       "    }\n",
       "\n",
       "    .dataframe tbody tr th {\n",
       "        vertical-align: top;\n",
       "    }\n",
       "\n",
       "    .dataframe thead th {\n",
       "        text-align: right;\n",
       "    }\n",
       "</style>\n",
       "<table border=\"1\" class=\"dataframe\">\n",
       "  <thead>\n",
       "    <tr style=\"text-align: right;\">\n",
       "      <th></th>\n",
       "      <th>Geo Point</th>\n",
       "      <th>Geo Shape</th>\n",
       "      <th>NOM</th>\n",
       "      <th>LIGNE</th>\n",
       "      <th>Etat</th>\n",
       "      <th>Type</th>\n",
       "      <th>EN_SERVICE</th>\n",
       "      <th>COUVERT</th>\n",
       "      <th>COMMUNE</th>\n",
       "    </tr>\n",
       "  </thead>\n",
       "  <tbody>\n",
       "    <tr>\n",
       "      <th>0</th>\n",
       "      <td>43.5834842368,1.41513774085</td>\n",
       "      <td>{\"type\": \"Point\", \"coordinates\": [1.4151377408...</td>\n",
       "      <td>MERMOZ</td>\n",
       "      <td>A</td>\n",
       "      <td>Existant</td>\n",
       "      <td>Metro</td>\n",
       "      <td>1993</td>\n",
       "      <td>Souterrain</td>\n",
       "      <td>TOULOUSE</td>\n",
       "    </tr>\n",
       "    <tr>\n",
       "      <th>1</th>\n",
       "      <td>43.5933903494,1.41853757424</td>\n",
       "      <td>{\"type\": \"Point\", \"coordinates\": [1.4185375742...</td>\n",
       "      <td>ARENES</td>\n",
       "      <td>A</td>\n",
       "      <td>Existant</td>\n",
       "      <td>Metro</td>\n",
       "      <td>1993</td>\n",
       "      <td>Souterrain</td>\n",
       "      <td>TOULOUSE</td>\n",
       "    </tr>\n",
       "    <tr>\n",
       "      <th>2</th>\n",
       "      <td>43.6000809993,1.44393799548</td>\n",
       "      <td>{\"type\": \"Point\", \"coordinates\": [1.4439379954...</td>\n",
       "      <td>ESQUIROL</td>\n",
       "      <td>A</td>\n",
       "      <td>Existant</td>\n",
       "      <td>Metro</td>\n",
       "      <td>1993</td>\n",
       "      <td>Souterrain</td>\n",
       "      <td>TOULOUSE</td>\n",
       "    </tr>\n",
       "    <tr>\n",
       "      <th>3</th>\n",
       "      <td>43.5798543484,1.44211223005</td>\n",
       "      <td>{\"type\": \"Point\", \"coordinates\": [1.4421122300...</td>\n",
       "      <td>EMPALOT</td>\n",
       "      <td>B</td>\n",
       "      <td>Existant</td>\n",
       "      <td>Metro</td>\n",
       "      <td>2007</td>\n",
       "      <td>Souterrain</td>\n",
       "      <td>TOULOUSE</td>\n",
       "    </tr>\n",
       "    <tr>\n",
       "      <th>4</th>\n",
       "      <td>43.6006894932,1.45216998661</td>\n",
       "      <td>{\"type\": \"Point\", \"coordinates\": [1.4521699866...</td>\n",
       "      <td>FRANCOIS VERDIER</td>\n",
       "      <td>B</td>\n",
       "      <td>Existant</td>\n",
       "      <td>Metro</td>\n",
       "      <td>2007</td>\n",
       "      <td>Souterrain</td>\n",
       "      <td>TOULOUSE</td>\n",
       "    </tr>\n",
       "  </tbody>\n",
       "</table>\n",
       "</div>"
      ],
      "text/plain": [
       "                     Geo Point  \\\n",
       "0  43.5834842368,1.41513774085   \n",
       "1  43.5933903494,1.41853757424   \n",
       "2  43.6000809993,1.44393799548   \n",
       "3  43.5798543484,1.44211223005   \n",
       "4  43.6006894932,1.45216998661   \n",
       "\n",
       "                                           Geo Shape               NOM LIGNE  \\\n",
       "0  {\"type\": \"Point\", \"coordinates\": [1.4151377408...            MERMOZ     A   \n",
       "1  {\"type\": \"Point\", \"coordinates\": [1.4185375742...            ARENES     A   \n",
       "2  {\"type\": \"Point\", \"coordinates\": [1.4439379954...          ESQUIROL     A   \n",
       "3  {\"type\": \"Point\", \"coordinates\": [1.4421122300...           EMPALOT     B   \n",
       "4  {\"type\": \"Point\", \"coordinates\": [1.4521699866...  FRANCOIS VERDIER     B   \n",
       "\n",
       "       Etat   Type  EN_SERVICE     COUVERT   COMMUNE  \n",
       "0  Existant  Metro        1993  Souterrain  TOULOUSE  \n",
       "1  Existant  Metro        1993  Souterrain  TOULOUSE  \n",
       "2  Existant  Metro        1993  Souterrain  TOULOUSE  \n",
       "3  Existant  Metro        2007  Souterrain  TOULOUSE  \n",
       "4  Existant  Metro        2007  Souterrain  TOULOUSE  "
      ]
     },
     "execution_count": 160,
     "metadata": {},
     "output_type": "execute_result"
    }
   ],
   "source": [
    "df = pd.read_csv('C:/Users/amaur/OneDrive/Documents/Data science/MOOC/MOOC coursera/capstone/stations-de-metro.csv', sep=';', encoding='ISO-8859-1')\n",
    "df.head()"
   ]
  },
  {
   "cell_type": "code",
   "execution_count": 161,
   "metadata": {},
   "outputs": [
    {
     "name": "stderr",
     "output_type": "stream",
     "text": [
      "C:\\Users\\amaur\\Anaconda3\\lib\\site-packages\\pandas\\core\\frame.py:3997: SettingWithCopyWarning: \n",
      "A value is trying to be set on a copy of a slice from a DataFrame\n",
      "\n",
      "See the caveats in the documentation: https://pandas.pydata.org/pandas-docs/stable/user_guide/indexing.html#returning-a-view-versus-a-copy\n",
      "  errors=errors,\n"
     ]
    },
    {
     "data": {
      "text/html": [
       "<div>\n",
       "<style scoped>\n",
       "    .dataframe tbody tr th:only-of-type {\n",
       "        vertical-align: middle;\n",
       "    }\n",
       "\n",
       "    .dataframe tbody tr th {\n",
       "        vertical-align: top;\n",
       "    }\n",
       "\n",
       "    .dataframe thead th {\n",
       "        text-align: right;\n",
       "    }\n",
       "</style>\n",
       "<table border=\"1\" class=\"dataframe\">\n",
       "  <thead>\n",
       "    <tr style=\"text-align: right;\">\n",
       "      <th></th>\n",
       "      <th>Geo Point</th>\n",
       "      <th>LIGNE</th>\n",
       "    </tr>\n",
       "  </thead>\n",
       "  <tbody>\n",
       "    <tr>\n",
       "      <th>33</th>\n",
       "      <td>43.5797294461,1.45903160413</td>\n",
       "      <td>B</td>\n",
       "    </tr>\n",
       "    <tr>\n",
       "      <th>34</th>\n",
       "      <td>43.6089939963,1.44521372372</td>\n",
       "      <td>B</td>\n",
       "    </tr>\n",
       "    <tr>\n",
       "      <th>35</th>\n",
       "      <td>43.6203379173,1.43586470253</td>\n",
       "      <td>B</td>\n",
       "    </tr>\n",
       "    <tr>\n",
       "      <th>36</th>\n",
       "      <td>43.6267449251,1.43396182427</td>\n",
       "      <td>B</td>\n",
       "    </tr>\n",
       "    <tr>\n",
       "      <th>37</th>\n",
       "      <td>43.6379945515,1.44461246346</td>\n",
       "      <td>B</td>\n",
       "    </tr>\n",
       "  </tbody>\n",
       "</table>\n",
       "</div>"
      ],
      "text/plain": [
       "                      Geo Point LIGNE\n",
       "33  43.5797294461,1.45903160413     B\n",
       "34  43.6089939963,1.44521372372     B\n",
       "35  43.6203379173,1.43586470253     B\n",
       "36  43.6267449251,1.43396182427     B\n",
       "37  43.6379945515,1.44461246346     B"
      ]
     },
     "execution_count": 161,
     "metadata": {},
     "output_type": "execute_result"
    }
   ],
   "source": [
    "df = df[['Geo Point', 'LIGNE']]\n",
    "df_metro = df[df.LIGNE!='C']\n",
    "df_metro.reset_index(inplace=True)\n",
    "df_metro.drop(['index'], axis=1, inplace=True)\n",
    "df_metro.tail()"
   ]
  },
  {
   "cell_type": "markdown",
   "metadata": {},
   "source": [
    "## Clean up geopoint (str) in a format that will be understandable for shapely transformation (float)"
   ]
  },
  {
   "cell_type": "code",
   "execution_count": 162,
   "metadata": {},
   "outputs": [],
   "source": [
    "geo_point_list = df_metro['Geo Point'].tolist()"
   ]
  },
  {
   "cell_type": "code",
   "execution_count": 163,
   "metadata": {},
   "outputs": [
    {
     "name": "stderr",
     "output_type": "stream",
     "text": [
      "C:\\Users\\amaur\\Anaconda3\\lib\\site-packages\\ipykernel_launcher.py:10: SettingWithCopyWarning: \n",
      "A value is trying to be set on a copy of a slice from a DataFrame.\n",
      "Try using .loc[row_indexer,col_indexer] = value instead\n",
      "\n",
      "See the caveats in the documentation: https://pandas.pydata.org/pandas-docs/stable/user_guide/indexing.html#returning-a-view-versus-a-copy\n",
      "  # Remove the CWD from sys.path while we load stuff.\n",
      "C:\\Users\\amaur\\Anaconda3\\lib\\site-packages\\ipykernel_launcher.py:11: SettingWithCopyWarning: \n",
      "A value is trying to be set on a copy of a slice from a DataFrame.\n",
      "Try using .loc[row_indexer,col_indexer] = value instead\n",
      "\n",
      "See the caveats in the documentation: https://pandas.pydata.org/pandas-docs/stable/user_guide/indexing.html#returning-a-view-versus-a-copy\n",
      "  # This is added back by InteractiveShellApp.init_path()\n"
     ]
    }
   ],
   "source": [
    "lat = []\n",
    "long = []\n",
    "for points in geo_point_list:\n",
    "    lati = points.split(',')[0]\n",
    "    lati = float(lati)\n",
    "    longi = points.split(',')[1]\n",
    "    longi = float(longi)\n",
    "    lat.append(lati)\n",
    "    long.append(longi)\n",
    "df_metro['latitude']=lat\n",
    "df_metro['longitude']=long"
   ]
  },
  {
   "cell_type": "markdown",
   "metadata": {},
   "source": [
    "# Download the dataset from toulouse real estate value"
   ]
  },
  {
   "cell_type": "code",
   "execution_count": 164,
   "metadata": {},
   "outputs": [
    {
     "name": "stdout",
     "output_type": "stream",
     "text": [
      "data loaded\n"
     ]
    }
   ],
   "source": [
    "toulouse = pd.read_csv('C:/Users/amaur/OneDrive/Documents/Data science/MOOC/MOOC coursera/capstone/data_toulouse_foncier.csv')\n",
    "print('data loaded')"
   ]
  },
  {
   "cell_type": "markdown",
   "metadata": {},
   "source": [
    "# Generate the treatment variable treated is metro within a km radius"
   ]
  },
  {
   "cell_type": "markdown",
   "metadata": {},
   "source": [
    "## Set up a geolocation projection system"
   ]
  },
  {
   "cell_type": "code",
   "execution_count": 165,
   "metadata": {},
   "outputs": [],
   "source": [
    "# Setting the crs\n",
    "transformer = Transformer.from_crs(\"epsg:4326\", \"epsg:2154\")"
   ]
  },
  {
   "cell_type": "markdown",
   "metadata": {},
   "source": [
    "## Project the coordinate on a plan given the chosen projection system"
   ]
  },
  {
   "cell_type": "code",
   "execution_count": 166,
   "metadata": {},
   "outputs": [],
   "source": [
    "# For the toulouse real estate dataset\n",
    "i=0\n",
    "p=[]\n",
    "while i<len(toulouse):\n",
    "    long = transformer.transform(toulouse['longitude'][i], toulouse['latitude'][i])[0]\n",
    "    lat = transformer.transform(toulouse['longitude'][i], toulouse['latitude'][i])[1]\n",
    "    point = Point(long,lat)\n",
    "    p.append(point)\n",
    "    i=i+1"
   ]
  },
  {
   "cell_type": "code",
   "execution_count": 167,
   "metadata": {},
   "outputs": [],
   "source": [
    "#for the metro location dataset\n",
    "i=0\n",
    "q=[]\n",
    "while i<len(df_metro):\n",
    "    long = transformer.transform(df_metro['longitude'][i], df_metro['latitude'][i])[0]\n",
    "    lat = transformer.transform(df_metro['longitude'][i], df_metro['latitude'][i])[1]\n",
    "    point = Point(long,lat)\n",
    "    q.append(point)\n",
    "    i=i+1"
   ]
  },
  {
   "cell_type": "markdown",
   "metadata": {},
   "source": [
    "## Check if the observations are within a range between 100 m and 1,5 Km of a metro station and append these new treatment variables to the dataset of toulouse real estate"
   ]
  },
  {
   "cell_type": "code",
   "execution_count": 168,
   "metadata": {},
   "outputs": [
    {
     "name": "stdout",
     "output_type": "stream",
     "text": [
      "0\n",
      "1\n",
      "2\n",
      "3\n",
      "4\n",
      "5\n",
      "6\n",
      "7\n",
      "8\n",
      "9\n",
      "10\n",
      "11\n",
      "12\n",
      "13\n",
      "14\n"
     ]
    }
   ],
   "source": [
    "distances = [100, 200, 300, 400, 500, 600, 700, 800, 900, 1000, 1100, 1200, 1300, 1400, 1500]\n",
    "i=0\n",
    "distance_presence = []\n",
    "while i<len(distances):\n",
    "    outside_loop = []\n",
    "    for points in p:\n",
    "        inside = []\n",
    "        for qoints in q:\n",
    "            circle_buffer = qoints.buffer(distances[i])\n",
    "            if points.within(circle_buffer):\n",
    "                inside.append('True')\n",
    "            else:\n",
    "                inside.append('False')\n",
    "        outside_loop.append(inside)\n",
    "    presence_metro = []\n",
    "    for lists in outside_loop:\n",
    "        if 'True' in lists:\n",
    "            presence_metro.append(1)\n",
    "        else:\n",
    "            presence_metro.append(0)\n",
    "    distance_presence.append(presence_metro)\n",
    "    print(i)\n",
    "    i=i+1"
   ]
  },
  {
   "cell_type": "raw",
   "metadata": {},
   "source": [
    "appending the generated lists to the dataset"
   ]
  },
  {
   "cell_type": "code",
   "execution_count": 169,
   "metadata": {},
   "outputs": [
    {
     "data": {
      "text/html": [
       "<div>\n",
       "<style scoped>\n",
       "    .dataframe tbody tr th:only-of-type {\n",
       "        vertical-align: middle;\n",
       "    }\n",
       "\n",
       "    .dataframe tbody tr th {\n",
       "        vertical-align: top;\n",
       "    }\n",
       "\n",
       "    .dataframe thead th {\n",
       "        text-align: right;\n",
       "    }\n",
       "</style>\n",
       "<table border=\"1\" class=\"dataframe\">\n",
       "  <thead>\n",
       "    <tr style=\"text-align: right;\">\n",
       "      <th></th>\n",
       "      <th>valeur_fonciere</th>\n",
       "      <th>nom_commune</th>\n",
       "      <th>code_postal</th>\n",
       "      <th>id_parcelle</th>\n",
       "      <th>nombre_pieces_principales</th>\n",
       "      <th>surface_terrain</th>\n",
       "      <th>type_local</th>\n",
       "      <th>surface_reelle_bati</th>\n",
       "      <th>longitude</th>\n",
       "      <th>latitude</th>\n",
       "      <th>...</th>\n",
       "      <th>distance_600</th>\n",
       "      <th>distance_700</th>\n",
       "      <th>distance_800</th>\n",
       "      <th>distance_900</th>\n",
       "      <th>distance_1000</th>\n",
       "      <th>distance_1100</th>\n",
       "      <th>distance_1200</th>\n",
       "      <th>distance_1300</th>\n",
       "      <th>distance_1400</th>\n",
       "      <th>distance_1500</th>\n",
       "    </tr>\n",
       "  </thead>\n",
       "  <tbody>\n",
       "    <tr>\n",
       "      <th>0</th>\n",
       "      <td>73000</td>\n",
       "      <td>Toulouse</td>\n",
       "      <td>31000</td>\n",
       "      <td>31555818AB0043</td>\n",
       "      <td>1</td>\n",
       "      <td>NaN</td>\n",
       "      <td>Appartement</td>\n",
       "      <td>17.0</td>\n",
       "      <td>1.438402</td>\n",
       "      <td>43.602411</td>\n",
       "      <td>...</td>\n",
       "      <td>0</td>\n",
       "      <td>0</td>\n",
       "      <td>0</td>\n",
       "      <td>1</td>\n",
       "      <td>1</td>\n",
       "      <td>1</td>\n",
       "      <td>1</td>\n",
       "      <td>1</td>\n",
       "      <td>1</td>\n",
       "      <td>1</td>\n",
       "    </tr>\n",
       "    <tr>\n",
       "      <th>1</th>\n",
       "      <td>140000</td>\n",
       "      <td>Toulouse</td>\n",
       "      <td>31200</td>\n",
       "      <td>31555831BC0687</td>\n",
       "      <td>4</td>\n",
       "      <td>225.0</td>\n",
       "      <td>Maison</td>\n",
       "      <td>77.0</td>\n",
       "      <td>1.446339</td>\n",
       "      <td>43.644810</td>\n",
       "      <td>...</td>\n",
       "      <td>0</td>\n",
       "      <td>0</td>\n",
       "      <td>0</td>\n",
       "      <td>0</td>\n",
       "      <td>0</td>\n",
       "      <td>1</td>\n",
       "      <td>1</td>\n",
       "      <td>1</td>\n",
       "      <td>1</td>\n",
       "      <td>1</td>\n",
       "    </tr>\n",
       "    <tr>\n",
       "      <th>2</th>\n",
       "      <td>76000</td>\n",
       "      <td>Toulouse</td>\n",
       "      <td>31400</td>\n",
       "      <td>31555813AD0294</td>\n",
       "      <td>0</td>\n",
       "      <td>NaN</td>\n",
       "      <td>Appartement</td>\n",
       "      <td>12.0</td>\n",
       "      <td>1.445320</td>\n",
       "      <td>43.586255</td>\n",
       "      <td>...</td>\n",
       "      <td>1</td>\n",
       "      <td>1</td>\n",
       "      <td>1</td>\n",
       "      <td>1</td>\n",
       "      <td>1</td>\n",
       "      <td>1</td>\n",
       "      <td>1</td>\n",
       "      <td>1</td>\n",
       "      <td>1</td>\n",
       "      <td>1</td>\n",
       "    </tr>\n",
       "    <tr>\n",
       "      <th>3</th>\n",
       "      <td>90000</td>\n",
       "      <td>Toulouse</td>\n",
       "      <td>31000</td>\n",
       "      <td>31555818AB0732</td>\n",
       "      <td>2</td>\n",
       "      <td>NaN</td>\n",
       "      <td>Appartement</td>\n",
       "      <td>30.0</td>\n",
       "      <td>1.440546</td>\n",
       "      <td>43.601473</td>\n",
       "      <td>...</td>\n",
       "      <td>1</td>\n",
       "      <td>1</td>\n",
       "      <td>1</td>\n",
       "      <td>1</td>\n",
       "      <td>1</td>\n",
       "      <td>1</td>\n",
       "      <td>1</td>\n",
       "      <td>1</td>\n",
       "      <td>1</td>\n",
       "      <td>1</td>\n",
       "    </tr>\n",
       "    <tr>\n",
       "      <th>4</th>\n",
       "      <td>350057</td>\n",
       "      <td>Toulouse</td>\n",
       "      <td>31000</td>\n",
       "      <td>31555827AD0187</td>\n",
       "      <td>3</td>\n",
       "      <td>90.0</td>\n",
       "      <td>Maison</td>\n",
       "      <td>59.0</td>\n",
       "      <td>1.425701</td>\n",
       "      <td>43.607076</td>\n",
       "      <td>...</td>\n",
       "      <td>0</td>\n",
       "      <td>0</td>\n",
       "      <td>0</td>\n",
       "      <td>0</td>\n",
       "      <td>0</td>\n",
       "      <td>0</td>\n",
       "      <td>0</td>\n",
       "      <td>0</td>\n",
       "      <td>0</td>\n",
       "      <td>0</td>\n",
       "    </tr>\n",
       "  </tbody>\n",
       "</table>\n",
       "<p>5 rows × 27 columns</p>\n",
       "</div>"
      ],
      "text/plain": [
       "   valeur_fonciere nom_commune  code_postal     id_parcelle  \\\n",
       "0            73000    Toulouse        31000  31555818AB0043   \n",
       "1           140000    Toulouse        31200  31555831BC0687   \n",
       "2            76000    Toulouse        31400  31555813AD0294   \n",
       "3            90000    Toulouse        31000  31555818AB0732   \n",
       "4           350057    Toulouse        31000  31555827AD0187   \n",
       "\n",
       "   nombre_pieces_principales  surface_terrain   type_local  \\\n",
       "0                          1              NaN  Appartement   \n",
       "1                          4            225.0       Maison   \n",
       "2                          0              NaN  Appartement   \n",
       "3                          2              NaN  Appartement   \n",
       "4                          3             90.0       Maison   \n",
       "\n",
       "   surface_reelle_bati  longitude   latitude  ... distance_600  distance_700  \\\n",
       "0                 17.0   1.438402  43.602411  ...            0             0   \n",
       "1                 77.0   1.446339  43.644810  ...            0             0   \n",
       "2                 12.0   1.445320  43.586255  ...            1             1   \n",
       "3                 30.0   1.440546  43.601473  ...            1             1   \n",
       "4                 59.0   1.425701  43.607076  ...            0             0   \n",
       "\n",
       "   distance_800  distance_900  distance_1000  distance_1100  distance_1200  \\\n",
       "0             0             1              1              1              1   \n",
       "1             0             0              0              1              1   \n",
       "2             1             1              1              1              1   \n",
       "3             1             1              1              1              1   \n",
       "4             0             0              0              0              0   \n",
       "\n",
       "   distance_1300  distance_1400  distance_1500  \n",
       "0              1              1              1  \n",
       "1              1              1              1  \n",
       "2              1              1              1  \n",
       "3              1              1              1  \n",
       "4              0              0              0  \n",
       "\n",
       "[5 rows x 27 columns]"
      ]
     },
     "execution_count": 169,
     "metadata": {},
     "output_type": "execute_result"
    }
   ],
   "source": [
    "i=0\n",
    "while i<len(distance_presence):\n",
    "    toulouse['distance_'+str(distances[i])] = distance_presence[i]\n",
    "    i=i+1\n",
    "toulouse.drop(['Unnamed: 0'], axis=1, inplace=True)\n",
    "toulouse.head()"
   ]
  },
  {
   "cell_type": "markdown",
   "metadata": {},
   "source": [
    "# Data cleaning and formating"
   ]
  },
  {
   "cell_type": "markdown",
   "metadata": {},
   "source": [
    "## Deleting missing values and 0 (corresponding to gift or heritage) from the dependant variable prior to analysis"
   ]
  },
  {
   "cell_type": "code",
   "execution_count": 172,
   "metadata": {},
   "outputs": [
    {
     "data": {
      "text/plain": [
       "surface_terrain    0.441059\n",
       "dtype: float64"
      ]
     },
     "execution_count": 172,
     "metadata": {},
     "output_type": "execute_result"
    }
   ],
   "source": [
    "# make a list of the variables that contain missing values\n",
    "vars_with_na = [var for var in toulouse.columns if toulouse[var].isnull().sum() > 0]\n",
    "\n",
    "# determine percentage of missing values\n",
    "toulouse[vars_with_na].isnull().mean()"
   ]
  },
  {
   "cell_type": "code",
   "execution_count": 171,
   "metadata": {},
   "outputs": [
    {
     "data": {
      "text/html": [
       "<div>\n",
       "<style scoped>\n",
       "    .dataframe tbody tr th:only-of-type {\n",
       "        vertical-align: middle;\n",
       "    }\n",
       "\n",
       "    .dataframe tbody tr th {\n",
       "        vertical-align: top;\n",
       "    }\n",
       "\n",
       "    .dataframe thead th {\n",
       "        text-align: right;\n",
       "    }\n",
       "</style>\n",
       "<table border=\"1\" class=\"dataframe\">\n",
       "  <thead>\n",
       "    <tr style=\"text-align: right;\">\n",
       "      <th></th>\n",
       "      <th>valeur_fonciere</th>\n",
       "      <th>nom_commune</th>\n",
       "      <th>code_postal</th>\n",
       "      <th>id_parcelle</th>\n",
       "      <th>nombre_pieces_principales</th>\n",
       "      <th>surface_terrain</th>\n",
       "      <th>type_local</th>\n",
       "      <th>surface_reelle_bati</th>\n",
       "      <th>longitude</th>\n",
       "      <th>latitude</th>\n",
       "      <th>...</th>\n",
       "      <th>distance_600</th>\n",
       "      <th>distance_700</th>\n",
       "      <th>distance_800</th>\n",
       "      <th>distance_900</th>\n",
       "      <th>distance_1000</th>\n",
       "      <th>distance_1100</th>\n",
       "      <th>distance_1200</th>\n",
       "      <th>distance_1300</th>\n",
       "      <th>distance_1400</th>\n",
       "      <th>distance_1500</th>\n",
       "    </tr>\n",
       "  </thead>\n",
       "  <tbody>\n",
       "    <tr>\n",
       "      <th>0</th>\n",
       "      <td>73000</td>\n",
       "      <td>Toulouse</td>\n",
       "      <td>31000</td>\n",
       "      <td>31555818AB0043</td>\n",
       "      <td>1</td>\n",
       "      <td>NaN</td>\n",
       "      <td>Appartement</td>\n",
       "      <td>17.0</td>\n",
       "      <td>1.438402</td>\n",
       "      <td>43.602411</td>\n",
       "      <td>...</td>\n",
       "      <td>0</td>\n",
       "      <td>0</td>\n",
       "      <td>0</td>\n",
       "      <td>1</td>\n",
       "      <td>1</td>\n",
       "      <td>1</td>\n",
       "      <td>1</td>\n",
       "      <td>1</td>\n",
       "      <td>1</td>\n",
       "      <td>1</td>\n",
       "    </tr>\n",
       "    <tr>\n",
       "      <th>1</th>\n",
       "      <td>140000</td>\n",
       "      <td>Toulouse</td>\n",
       "      <td>31200</td>\n",
       "      <td>31555831BC0687</td>\n",
       "      <td>4</td>\n",
       "      <td>225.0</td>\n",
       "      <td>Maison</td>\n",
       "      <td>77.0</td>\n",
       "      <td>1.446339</td>\n",
       "      <td>43.644810</td>\n",
       "      <td>...</td>\n",
       "      <td>0</td>\n",
       "      <td>0</td>\n",
       "      <td>0</td>\n",
       "      <td>0</td>\n",
       "      <td>0</td>\n",
       "      <td>1</td>\n",
       "      <td>1</td>\n",
       "      <td>1</td>\n",
       "      <td>1</td>\n",
       "      <td>1</td>\n",
       "    </tr>\n",
       "    <tr>\n",
       "      <th>2</th>\n",
       "      <td>76000</td>\n",
       "      <td>Toulouse</td>\n",
       "      <td>31400</td>\n",
       "      <td>31555813AD0294</td>\n",
       "      <td>0</td>\n",
       "      <td>NaN</td>\n",
       "      <td>Appartement</td>\n",
       "      <td>12.0</td>\n",
       "      <td>1.445320</td>\n",
       "      <td>43.586255</td>\n",
       "      <td>...</td>\n",
       "      <td>1</td>\n",
       "      <td>1</td>\n",
       "      <td>1</td>\n",
       "      <td>1</td>\n",
       "      <td>1</td>\n",
       "      <td>1</td>\n",
       "      <td>1</td>\n",
       "      <td>1</td>\n",
       "      <td>1</td>\n",
       "      <td>1</td>\n",
       "    </tr>\n",
       "    <tr>\n",
       "      <th>3</th>\n",
       "      <td>90000</td>\n",
       "      <td>Toulouse</td>\n",
       "      <td>31000</td>\n",
       "      <td>31555818AB0732</td>\n",
       "      <td>2</td>\n",
       "      <td>NaN</td>\n",
       "      <td>Appartement</td>\n",
       "      <td>30.0</td>\n",
       "      <td>1.440546</td>\n",
       "      <td>43.601473</td>\n",
       "      <td>...</td>\n",
       "      <td>1</td>\n",
       "      <td>1</td>\n",
       "      <td>1</td>\n",
       "      <td>1</td>\n",
       "      <td>1</td>\n",
       "      <td>1</td>\n",
       "      <td>1</td>\n",
       "      <td>1</td>\n",
       "      <td>1</td>\n",
       "      <td>1</td>\n",
       "    </tr>\n",
       "    <tr>\n",
       "      <th>4</th>\n",
       "      <td>350057</td>\n",
       "      <td>Toulouse</td>\n",
       "      <td>31000</td>\n",
       "      <td>31555827AD0187</td>\n",
       "      <td>3</td>\n",
       "      <td>90.0</td>\n",
       "      <td>Maison</td>\n",
       "      <td>59.0</td>\n",
       "      <td>1.425701</td>\n",
       "      <td>43.607076</td>\n",
       "      <td>...</td>\n",
       "      <td>0</td>\n",
       "      <td>0</td>\n",
       "      <td>0</td>\n",
       "      <td>0</td>\n",
       "      <td>0</td>\n",
       "      <td>0</td>\n",
       "      <td>0</td>\n",
       "      <td>0</td>\n",
       "      <td>0</td>\n",
       "      <td>0</td>\n",
       "    </tr>\n",
       "  </tbody>\n",
       "</table>\n",
       "<p>5 rows × 27 columns</p>\n",
       "</div>"
      ],
      "text/plain": [
       "   valeur_fonciere nom_commune  code_postal     id_parcelle  \\\n",
       "0            73000    Toulouse        31000  31555818AB0043   \n",
       "1           140000    Toulouse        31200  31555831BC0687   \n",
       "2            76000    Toulouse        31400  31555813AD0294   \n",
       "3            90000    Toulouse        31000  31555818AB0732   \n",
       "4           350057    Toulouse        31000  31555827AD0187   \n",
       "\n",
       "   nombre_pieces_principales  surface_terrain   type_local  \\\n",
       "0                          1              NaN  Appartement   \n",
       "1                          4            225.0       Maison   \n",
       "2                          0              NaN  Appartement   \n",
       "3                          2              NaN  Appartement   \n",
       "4                          3             90.0       Maison   \n",
       "\n",
       "   surface_reelle_bati  longitude   latitude  ... distance_600  distance_700  \\\n",
       "0                 17.0   1.438402  43.602411  ...            0             0   \n",
       "1                 77.0   1.446339  43.644810  ...            0             0   \n",
       "2                 12.0   1.445320  43.586255  ...            1             1   \n",
       "3                 30.0   1.440546  43.601473  ...            1             1   \n",
       "4                 59.0   1.425701  43.607076  ...            0             0   \n",
       "\n",
       "   distance_800  distance_900  distance_1000  distance_1100  distance_1200  \\\n",
       "0             0             1              1              1              1   \n",
       "1             0             0              0              1              1   \n",
       "2             1             1              1              1              1   \n",
       "3             1             1              1              1              1   \n",
       "4             0             0              0              0              0   \n",
       "\n",
       "   distance_1300  distance_1400  distance_1500  \n",
       "0              1              1              1  \n",
       "1              1              1              1  \n",
       "2              1              1              1  \n",
       "3              1              1              1  \n",
       "4              0              0              0  \n",
       "\n",
       "[5 rows x 27 columns]"
      ]
     },
     "execution_count": 171,
     "metadata": {},
     "output_type": "execute_result"
    }
   ],
   "source": [
    "# building a boolean approach\n",
    "droping = (toulouse['prix_m2'].isnull()) | (toulouse['prix_m2'] == 0)\n",
    "toulouse = toulouse.loc[~droping]\n",
    "toulouse.reset_index(inplace=True)\n",
    "toulouse.drop(['index'], axis=1, inplace=True)\n",
    "toulouse.head()"
   ]
  },
  {
   "cell_type": "markdown",
   "metadata": {},
   "source": [
    "## Checking the continuous variables - if the distribution is not normal we will log them (having the additional advantage to allow for a future effect interpretation in percents)"
   ]
  },
  {
   "cell_type": "code",
   "execution_count": 173,
   "metadata": {},
   "outputs": [],
   "source": [
    "cont_var = ['surface_reelle_bati','prix_m2','surface_terrain','valeur_fonciere']"
   ]
  },
  {
   "cell_type": "code",
   "execution_count": 174,
   "metadata": {},
   "outputs": [
    {
     "data": {
      "image/png": "[encoded data removed]",
      "text/plain": [
       "<Figure size 432x288 with 1 Axes>"
      ]
     },
     "metadata": {},
     "output_type": "display_data"
    },
    {
     "data": {
      "image/png": "[encoded data removed]",
      "text/plain": [
       "<Figure size 432x288 with 1 Axes>"
      ]
     },
     "metadata": {},
     "output_type": "display_data"
    },
    {
     "data": {
      "image/png": "[encoded data removed]",
      "text/plain": [
       "<Figure size 432x288 with 1 Axes>"
      ]
     },
     "metadata": {},
     "output_type": "display_data"
    },
    {
     "data": {
      "image/png": "[encoded data removed]",
      "text/plain": [
       "<Figure size 432x288 with 1 Axes>"
      ]
     },
     "metadata": {},
     "output_type": "display_data"
    }
   ],
   "source": [
    "i=0\n",
    "while i<len(cont_var):\n",
    "    toulouse[cont_var[i]].hist(bins=30)\n",
    "    plt.ylabel('occurence')\n",
    "    plt.xlabel('variable values')\n",
    "    plt.title(cont_var[i])\n",
    "    plt.show()\n",
    "    i=i+1"
   ]
  },
  {
   "cell_type": "markdown",
   "metadata": {},
   "source": [
    "### Check for outliers"
   ]
  },
  {
   "cell_type": "code",
   "execution_count": 175,
   "metadata": {},
   "outputs": [
    {
     "data": {
      "image/png": "[encoded data removed]",
      "text/plain": [
       "<Figure size 432x288 with 1 Axes>"
      ]
     },
     "metadata": {},
     "output_type": "display_data"
    },
    {
     "data": {
      "image/png": "[encoded data removed]",
      "text/plain": [
       "<Figure size 432x288 with 1 Axes>"
      ]
     },
     "metadata": {},
     "output_type": "display_data"
    },
    {
     "data": {
      "image/png": "[encoded data removed]",
      "text/plain": [
       "<Figure size 432x288 with 1 Axes>"
      ]
     },
     "metadata": {},
     "output_type": "display_data"
    },
    {
     "data": {
      "image/png": "[encoded data removed]",
      "text/plain": [
       "<Figure size 432x288 with 1 Axes>"
      ]
     },
     "metadata": {},
     "output_type": "display_data"
    }
   ],
   "source": [
    "for var in cont_var:\n",
    "        toulouse.boxplot(column=var)\n",
    "        plt.title(var)\n",
    "        plt.ylabel(var)\n",
    "        plt.show()"
   ]
  },
  {
   "cell_type": "markdown",
   "metadata": {},
   "source": [
    "### We see a great quantity of outliers, as we will try to match data to counterfactual it would be good practice to stream these outliers"
   ]
  },
  {
   "cell_type": "code",
   "execution_count": 176,
   "metadata": {},
   "outputs": [],
   "source": [
    "Q1 = toulouse[cont_var].quantile(0.25)\n",
    "Q3 = toulouse[cont_var].quantile(0.75)\n",
    "IQR = Q3 - Q1\n",
    "\n",
    "toulouse = toulouse[~((toulouse[cont_var] > (Q3 + 1.5 * IQR))).any(axis=1)]"
   ]
  },
  {
   "cell_type": "code",
   "execution_count": 177,
   "metadata": {},
   "outputs": [
    {
     "data": {
      "image/png": "[encoded data removed]",
      "text/plain": [
       "<Figure size 432x288 with 1 Axes>"
      ]
     },
     "metadata": {},
     "output_type": "display_data"
    },
    {
     "data": {
      "image/png": "[encoded data removed]",
      "text/plain": [
       "<Figure size 432x288 with 1 Axes>"
      ]
     },
     "metadata": {},
     "output_type": "display_data"
    },
    {
     "data": {
      "image/png": "[encoded data removed]",
      "text/plain": [
       "<Figure size 432x288 with 1 Axes>"
      ]
     },
     "metadata": {},
     "output_type": "display_data"
    },
    {
     "data": {
      "image/png": "[encoded data removed]",
      "text/plain": [
       "<Figure size 432x288 with 1 Axes>"
      ]
     },
     "metadata": {},
     "output_type": "display_data"
    }
   ],
   "source": [
    "for var in cont_var:\n",
    "        toulouse_without_outlier.boxplot(column=var)\n",
    "        plt.title(var)\n",
    "        plt.ylabel(var)\n",
    "        plt.show()"
   ]
  },
  {
   "cell_type": "markdown",
   "metadata": {},
   "source": [
    "## Checking categorical variables"
   ]
  },
  {
   "cell_type": "code",
   "execution_count": 178,
   "metadata": {},
   "outputs": [],
   "source": [
    "## Distinction center VS the rest\n",
    "centre = ['CAPITOLE', 'AMIDONNIERS','SAINT-GEORGES', 'MATABIAU','SAINT-AUBIN - DUPUY','CARMES', 'LES CHALETS',\n",
    "         'COMPANS', 'ARNAUD BERNARD','LE BUSCA','SAINT-CYPRIEN']\n",
    "exterieur = ['CROIX-DAURADE','SAINT-MICHEL','LA TERRASSE','MARENGO - JOLIMONT','SAINT-ETIENNE','POUVOURVILLE',\n",
    "            'LES IZARDS', 'GUILHEMERY','SEPT DENIERS','PONT-DES-DEMOISELLES', 'COTE PAVEE', 'LALANDE', 'MINIMES', 'ROSERAIE',\n",
    "            'SAINT-AGNE', 'SOUPETARD', 'SAUZELONG - RANGUEIL', \"CHATEAU-DE-L'HERS\", 'BARRIERE-DE-PARIS', 'MONTAUDRAN - LESPINET',\n",
    "            'BONNEFOY', 'RANGUEIL - CHR - FACULTES', 'JULES JULIEN', 'GRAMONT', 'JUNCASSE - ARGOULETS', 'EMPALOT', \n",
    "            'GINESTOUS', 'LES PRADETTES', 'BELLEFONTAINE', 'CASSELARDIT', 'LA FOURGUETTE', 'FER-A-CHEVAL', 'SAINT-SIMON',\n",
    "            'PAPUS', 'PURPAN', 'LA CEPIERE', 'LARDENNE', \"PATTE D'OIE\", 'CROIX-DE-PIERRE', 'MIRAIL-UNIVERSITE', 'SAINT-MARTIN-DU-TOUCH',\n",
    "            'BASSO-CAMBO', 'FONTAINE-LESTANG', \"ZONES D'ACTIVITES SUD\", 'BAGATELLE', 'REYNERIE', 'FAOURETTE', 'ARENES']\n",
    "## Appending to dataset\n",
    "quartiers = toulouse['quartier']\n",
    "zone = []\n",
    "for quartier in quartiers:\n",
    "    if quartier in centre:\n",
    "        zone.append(1)\n",
    "    else:\n",
    "        zone.append(0)\n",
    "toulouse['grande_zone'] = zone"
   ]
  },
  {
   "cell_type": "code",
   "execution_count": 187,
   "metadata": {},
   "outputs": [
    {
     "data": {
      "text/plain": [
       "array([0, 1], dtype=int64)"
      ]
     },
     "execution_count": 187,
     "metadata": {},
     "output_type": "execute_result"
    }
   ],
   "source": [
    "toulouse['type_local'].unique()"
   ]
  },
  {
   "cell_type": "code",
   "execution_count": 183,
   "metadata": {},
   "outputs": [],
   "source": [
    "toulouse.drop(toulouse[toulouse.type_local == 'Local industriel. commercial ou assimilé'].index, inplace=True)"
   ]
  },
  {
   "cell_type": "code",
   "execution_count": 186,
   "metadata": {},
   "outputs": [],
   "source": [
    "cleanup_types = {\"type_local\":{\"Maison\": 1, \"Appartement\": 0}}\n",
    "def encode_dep(df):\n",
    "    df.replace(cleanup_types, inplace=True)\n",
    "encode_dep(toulouse)"
   ]
  },
  {
   "cell_type": "markdown",
   "metadata": {},
   "source": [
    "# Start the Rubin modelling"
   ]
  },
  {
   "cell_type": "code",
   "execution_count": 189,
   "metadata": {},
   "outputs": [],
   "source": [
    "import matplotlib.pyplot as plt\n",
    "import seaborn as sns\n",
    "%matplotlib inline\n",
    "\n",
    "from causalinference import CausalModel"
   ]
  },
  {
   "cell_type": "markdown",
   "metadata": {},
   "source": [
    "# Objectif : estimer le saut dans les prix immobiliers due à la présence d'une bouche de métro à proximité\n",
    "\n",
    "## Problem : a set of assumption must be made so that we are sure that the effects comes from the treatment (i.e: the proximity of a subway station) and not from other covariates (size, presence of a gardern, nuber of rooms, neighborhood...)\n",
    "\n",
    "To check that we must ensure 1 major thing: that the tratment is independant of the covariate (as an easily understandable example imagine that there are only manors next to the metro station and crubling rat hole far away from the metro station, how would you know if the difference in price is due to the presence of the transportation commodity or to the intrinsec quality of the house?). This is called the Conditional Independance Assumption.\n",
    "\n",
    "Mathematically we have $(Y_0,Y_1)\\perp T|X$\n",
    "\n",
    "We want to estimate $\\Delta = E[Y_1-Y_0] (1)$\n",
    "\n",
    "However what we can have from the data is : $E[Y_1|T_{=1}]-E[Y_0|T_{=0}]$ which equals (1) if and only if $E[Y_i|D_i] = E[Y_i]$"
   ]
  },
  {
   "cell_type": "markdown",
   "metadata": {},
   "source": [
    "### Define a set of treatment variables function of the distance to a metro subway"
   ]
  },
  {
   "cell_type": "code",
   "execution_count": 218,
   "metadata": {},
   "outputs": [],
   "source": [
    "treats = ['distance_400','distance_500', 'distance_600', 'distance_700'\n",
    "        , 'distance_800', 'distance_900', 'distance_1000', 'distance_1100', 'distance_1200', 'distance_1300']"
   ]
  },
  {
   "cell_type": "markdown",
   "metadata": {},
   "source": [
    "### Check if there is a global difference in the outcome mean according to the treatment or control groups\n",
    "Check $\\Delta = E[Y_1-Y_0]$"
   ]
  },
  {
   "cell_type": "code",
   "execution_count": 219,
   "metadata": {},
   "outputs": [
    {
     "name": "stdout",
     "output_type": "stream",
     "text": [
      "                   median         mean\n",
      "distance_400                          \n",
      "0             3396.022727  3522.680754\n",
      "1             3972.758621  3981.884560\n",
      "                   median         mean\n",
      "distance_500                          \n",
      "0             3333.333333  3489.197360\n",
      "1             3948.369565  3951.955318\n",
      "                   median         mean\n",
      "distance_600                          \n",
      "0             3300.000000  3447.396243\n",
      "1             3942.519201  3940.564528\n",
      "                   median         mean\n",
      "distance_700                          \n",
      "0             3277.772148  3428.176876\n",
      "1             3924.242424  3900.650423\n",
      "                   median         mean\n",
      "distance_800                          \n",
      "0             3271.527778  3408.250467\n",
      "1             3910.912500  3871.005510\n",
      "                   median         mean\n",
      "distance_900                          \n",
      "0             3225.494253  3392.669595\n",
      "1             3894.736842  3847.820808\n",
      "                    median         mean\n",
      "distance_1000                          \n",
      "0              3260.869565  3388.250076\n",
      "1              3849.200400  3802.789232\n",
      "                    median         mean\n",
      "distance_1100                          \n",
      "0              3255.422009  3386.994022\n",
      "1              3832.333333  3775.517928\n",
      "                    median         mean\n",
      "distance_1200                          \n",
      "0              3277.442105  3406.502983\n",
      "1              3759.836986  3737.060848\n",
      "                    median         mean\n",
      "distance_1300                          \n",
      "0              3277.772148  3389.654735\n",
      "1              3750.000000  3731.829489\n"
     ]
    }
   ],
   "source": [
    "for treat in treats:\n",
    "    print(toulouse.groupby(treat)['prix_m2'].agg(['median','mean']))"
   ]
  },
  {
   "cell_type": "markdown",
   "metadata": {},
   "source": [
    "We see that we have a difference in the conditional mean between the two groups with higher both median and mean values for the treated, if the CIA holds we will be able to attribute it to the presence of our metro station. Note that the means are constantly higher than the median which tels us that the distribution is skewed on the right() this is consistant with the outlier structure that we have seen in the data exploration phase."
   ]
  },
  {
   "cell_type": "markdown",
   "metadata": {},
   "source": [
    "### Let us check more in details the difference means disantagled by the independant variable\n",
    "\n",
    "The normalized difference is set up as \n",
    "$\\frac{E[X_t]-E[X_c]}{\\sqrt{Std_t - Std_c}}$"
   ]
  },
  {
   "cell_type": "code",
   "execution_count": 220,
   "metadata": {},
   "outputs": [
    {
     "name": "stdout",
     "output_type": "stream",
     "text": [
      "\n",
      "Summary Statistics\n",
      "\n",
      "                      Controls (N_c=1389)         Treated (N_t=286)             \n",
      "       Variable         Mean         S.d.         Mean         S.d.     Raw-diff\n",
      "--------------------------------------------------------------------------------\n",
      "              Y     3522.681     1227.130     3981.885     1264.315      459.204\n",
      "\n",
      "                      Controls (N_c=1389)         Treated (N_t=286)             \n",
      "       Variable         Mean         S.d.         Mean         S.d.     Nor-diff\n",
      "--------------------------------------------------------------------------------\n",
      "             X0        3.666        1.512        2.566        1.454       -0.741\n",
      "             X1          nan          nan          nan          nan          nan\n",
      "             X2        0.196        0.397        0.545        0.499        0.776\n",
      "             X3       83.974       38.706       61.972       38.398       -0.571\n",
      "             X4        0.650        0.477        0.206        0.405       -1.003\n",
      "\n",
      "\n",
      "Summary Statistics\n",
      "\n",
      "                      Controls (N_c=1270)         Treated (N_t=405)             \n",
      "       Variable         Mean         S.d.         Mean         S.d.     Raw-diff\n",
      "--------------------------------------------------------------------------------\n",
      "              Y     3489.197     1220.774     3951.955     1257.415      462.758\n",
      "\n",
      "                      Controls (N_c=1270)         Treated (N_t=405)             \n",
      "       Variable         Mean         S.d.         Mean         S.d.     Nor-diff\n",
      "--------------------------------------------------------------------------------\n",
      "             X0        3.732        1.497        2.681        1.474       -0.707\n",
      "             X1          nan          nan          nan          nan          nan\n",
      "             X2        0.175        0.380        0.509        0.501        0.751\n",
      "             X3       85.600       38.149       63.338       39.030       -0.577\n",
      "             X4        0.683        0.465        0.232        0.423       -1.015\n",
      "\n",
      "\n",
      "Summary Statistics\n",
      "\n",
      "                      Controls (N_c=1153)         Treated (N_t=522)             \n",
      "       Variable         Mean         S.d.         Mean         S.d.     Raw-diff\n",
      "--------------------------------------------------------------------------------\n",
      "              Y     3447.396     1214.137     3940.565     1246.960      493.168\n",
      "\n",
      "                      Controls (N_c=1153)         Treated (N_t=522)             \n",
      "       Variable         Mean         S.d.         Mean         S.d.     Nor-diff\n",
      "--------------------------------------------------------------------------------\n",
      "             X0        3.816        1.468        2.732        1.491       -0.733\n",
      "             X1          nan          nan          nan          nan          nan\n",
      "             X2        0.147        0.354        0.496        0.500        0.807\n",
      "             X3       87.430       37.937       64.285       38.293       -0.607\n",
      "             X4        0.715        0.452        0.264        0.441       -1.008\n",
      "\n",
      "\n",
      "Summary Statistics\n",
      "\n",
      "                      Controls (N_c=1062)         Treated (N_t=613)             \n",
      "       Variable         Mean         S.d.         Mean         S.d.     Raw-diff\n",
      "--------------------------------------------------------------------------------\n",
      "              Y     3428.177     1201.478     3900.650     1263.702      472.474\n",
      "\n",
      "                      Controls (N_c=1062)         Treated (N_t=613)             \n",
      "       Variable         Mean         S.d.         Mean         S.d.     Nor-diff\n",
      "--------------------------------------------------------------------------------\n",
      "             X0        3.898        1.439        2.750        1.487       -0.785\n",
      "             X1          nan          nan          nan          nan          nan\n",
      "             X2        0.121        0.326        0.489        0.500        0.874\n",
      "             X3       89.185       37.420       64.680       38.249       -0.648\n",
      "             X4        0.746        0.436        0.277        0.448       -1.060\n",
      "\n",
      "\n",
      "Summary Statistics\n",
      "\n",
      "                       Controls (N_c=977)         Treated (N_t=698)             \n",
      "       Variable         Mean         S.d.         Mean         S.d.     Raw-diff\n",
      "--------------------------------------------------------------------------------\n",
      "              Y     3408.250     1183.739     3871.006     1279.405      462.755\n",
      "\n",
      "                       Controls (N_c=977)         Treated (N_t=698)             \n",
      "       Variable         Mean         S.d.         Mean         S.d.     Nor-diff\n",
      "--------------------------------------------------------------------------------\n",
      "             X0        3.943        1.419        2.828        1.511       -0.760\n",
      "             X1          nan          nan          nan          nan          nan\n",
      "             X2        0.093        0.291        0.483        0.500        0.953\n",
      "             X3       90.083       37.074       66.408       38.716       -0.625\n",
      "             X4        0.766        0.424        0.307        0.461       -1.036\n",
      "\n",
      "\n",
      "Summary Statistics\n",
      "\n",
      "                       Controls (N_c=908)         Treated (N_t=767)             \n",
      "       Variable         Mean         S.d.         Mean         S.d.     Raw-diff\n",
      "--------------------------------------------------------------------------------\n",
      "              Y     3392.670     1179.198     3847.821     1276.608      455.151\n",
      "\n",
      "                       Controls (N_c=908)         Treated (N_t=767)             \n",
      "       Variable         Mean         S.d.         Mean         S.d.     Nor-diff\n",
      "--------------------------------------------------------------------------------\n",
      "             X0        3.980        1.397        2.884        1.530       -0.748\n",
      "             X1          nan          nan          nan          nan          nan\n",
      "             X2        0.080        0.272        0.463        0.499        0.952\n",
      "             X3       91.086       36.663       67.351       38.932       -0.628\n",
      "             X4        0.784        0.412        0.326        0.469       -1.038\n",
      "\n",
      "\n",
      "Summary Statistics\n",
      "\n",
      "                       Controls (N_c=815)         Treated (N_t=860)             \n",
      "       Variable         Mean         S.d.         Mean         S.d.     Raw-diff\n",
      "--------------------------------------------------------------------------------\n",
      "              Y     3388.250     1167.828     3802.789     1282.840      414.539\n",
      "\n",
      "                       Controls (N_c=815)         Treated (N_t=860)             \n",
      "       Variable         Mean         S.d.         Mean         S.d.     Nor-diff\n",
      "--------------------------------------------------------------------------------\n",
      "             X0        4.053        1.347        2.934        1.549       -0.771\n",
      "             X1          nan          nan          nan          nan          nan\n",
      "             X2        0.069        0.253        0.433        0.496        0.924\n",
      "             X3       93.391       36.135       67.733       38.542       -0.687\n",
      "             X4        0.817        0.387        0.344        0.475       -1.092\n",
      "\n",
      "\n",
      "Summary Statistics\n",
      "\n",
      "                       Controls (N_c=752)         Treated (N_t=923)             \n",
      "       Variable         Mean         S.d.         Mean         S.d.     Raw-diff\n",
      "--------------------------------------------------------------------------------\n",
      "              Y     3386.994     1156.849     3775.518     1287.383      388.524\n",
      "\n",
      "                       Controls (N_c=752)         Treated (N_t=923)             \n",
      "       Variable         Mean         S.d.         Mean         S.d.     Nor-diff\n",
      "--------------------------------------------------------------------------------\n",
      "             X0        4.102        1.343        2.970        1.536       -0.785\n",
      "             X1          nan          nan          nan          nan          nan\n",
      "             X2        0.064        0.245        0.412        0.492        0.895\n",
      "             X3       94.449       35.881       68.622       38.563       -0.693\n",
      "             X4        0.830        0.376        0.366        0.482       -1.072\n",
      "\n",
      "\n",
      "Summary Statistics\n",
      "\n",
      "                       Controls (N_c=689)         Treated (N_t=986)             \n",
      "       Variable         Mean         S.d.         Mean         S.d.     Raw-diff\n",
      "--------------------------------------------------------------------------------\n",
      "              Y     3406.503     1152.047     3737.061     1289.653      330.558\n",
      "\n",
      "                       Controls (N_c=689)         Treated (N_t=986)             \n",
      "       Variable         Mean         S.d.         Mean         S.d.     Nor-diff\n",
      "--------------------------------------------------------------------------------\n",
      "             X0        4.135        1.347        3.019        1.531       -0.774\n",
      "             X1          nan          nan          nan          nan          nan\n",
      "             X2        0.062        0.242        0.390        0.488        0.852\n",
      "             X3       95.631       35.957       69.446       38.326       -0.705\n",
      "             X4        0.843        0.364        0.386        0.487       -1.063\n",
      "\n",
      "\n",
      "Summary Statistics\n",
      "\n",
      "                       Controls (N_c=640)        Treated (N_t=1035)             \n",
      "       Variable         Mean         S.d.         Mean         S.d.     Raw-diff\n",
      "--------------------------------------------------------------------------------\n",
      "              Y     3389.655     1140.754     3731.829     1288.939      342.175\n",
      "\n",
      "                       Controls (N_c=640)        Treated (N_t=1035)             \n",
      "       Variable         Mean         S.d.         Mean         S.d.     Nor-diff\n",
      "--------------------------------------------------------------------------------\n",
      "             X0        4.173        1.325        3.048        1.536       -0.784\n",
      "             X1          nan          nan          nan          nan          nan\n",
      "             X2        0.047        0.212        0.385        0.487        0.900\n",
      "             X3       96.783       35.452       69.974       38.430       -0.725\n",
      "             X4        0.859        0.348        0.398        0.490       -1.086\n",
      "\n"
     ]
    }
   ],
   "source": [
    "for treat in treats:\n",
    "    causal = CausalModel(Y=toulouse['prix_m2'].values, D=toulouse[treat].values, X=toulouse[['nombre_pieces_principales', 'surface_terrain', 'grande_zone', 'surface_reelle_bati',\n",
    "                                                                                            'type_local']].values)\n",
    "    print(causal.summary_stats)"
   ]
  },
  {
   "cell_type": "markdown",
   "metadata": {},
   "source": [
    "The sample is balanced as far at it regards the nuber of rooms in the accomodation and the size in m2 of the accomodation. However more appartment appears in the treated group (this is due to the number of appartment that you can put on a single location point or to the density of both selling and metro stops in the city center) conversely accomodation is greater area are in the tratment group (again probably due to density of habitation and metro lines matter)"
   ]
  },
  {
   "cell_type": "markdown",
   "metadata": {},
   "source": [
    "### We can have a more visual apect of the problem by checking if distributions overlap\n",
    "for few var and treatment distance (a global graph would be intractable leading to 5*10 graphs)"
   ]
  },
  {
   "cell_type": "code",
   "execution_count": 212,
   "metadata": {},
   "outputs": [
    {
     "data": {
      "text/plain": [
       "distance_1100\n",
       "0    AxesSubplot(0.125,0.125;0.775x0.755)\n",
       "1    AxesSubplot(0.125,0.125;0.775x0.755)\n",
       "Name: nombre_pieces_principales, dtype: object"
      ]
     },
     "execution_count": 212,
     "metadata": {},
     "output_type": "execute_result"
    },
    {
     "data": {
      "image/png": "[encoded data removed]",
      "text/plain": [
       "<Figure size 432x288 with 1 Axes>"
      ]
     },
     "metadata": {
      "needs_background": "light"
     },
     "output_type": "display_data"
    }
   ],
   "source": [
    "toulouse.groupby('distance_1100')['nombre_pieces_principales'].plot(kind='hist', bins=20, alpha=0.8, legend=True)"
   ]
  },
  {
   "cell_type": "markdown",
   "metadata": {},
   "source": [
    "### The strategy to tackle this problem will be to assign a chance of being ''treated'' according to the whole covariate vector and not variable by variables individually. This will be done by a Probit regression we will estimate what a Propensity score of being treated.\n",
    "The math logic is as follow $s(X) = P(T_{=1}|X) = \\frac{\\exp{X}}{1+\\exp{X}}$\n",
    "\n",
    "So the closest it is to 0.5 the best the CIA should be"
   ]
  },
  {
   "cell_type": "code",
   "execution_count": 221,
   "metadata": {},
   "outputs": [
    {
     "name": "stdout",
     "output_type": "stream",
     "text": [
      "\n",
      "Estimated Parameters of Propensity Score\n",
      "\n",
      "                    Coef.       S.e.          z      P>|z|      [95% Conf. int.]\n",
      "--------------------------------------------------------------------------------\n",
      "     Intercept     -0.880      0.188     -4.680      0.000     -1.249     -0.512\n",
      "            X3     -1.384      0.219     -6.320      0.000     -1.813     -0.955\n",
      "            X1      0.697      0.160      4.364      0.000      0.384      1.011\n",
      "            X0     -0.345      0.104     -3.324      0.001     -0.548     -0.141\n",
      "            X2      0.009      0.004      2.510      0.012      0.002      0.017\n",
      "\n",
      "\n",
      "Estimated Parameters of Propensity Score\n",
      "\n",
      "                    Coef.       S.e.          z      P>|z|      [95% Conf. int.]\n",
      "--------------------------------------------------------------------------------\n",
      "     Intercept     -0.061      0.241     -0.252      0.801     -0.533      0.412\n",
      "            X3     -0.417      0.494     -0.844      0.399     -1.386      0.552\n",
      "            X1      0.658      0.147      4.471      0.000      0.369      0.946\n",
      "            X0     -0.153      0.094     -1.635      0.102     -0.337      0.031\n",
      "            X2     -0.013      0.008     -1.563      0.118     -0.028      0.003\n",
      "         X2*X2      0.000      0.000      2.717      0.007      0.000      0.000\n",
      "         X3*X2     -0.012      0.006     -2.242      0.025     -0.023     -0.002\n",
      "\n",
      "\n",
      "Estimated Parameters of Propensity Score\n",
      "\n",
      "                    Coef.       S.e.          z      P>|z|      [95% Conf. int.]\n",
      "--------------------------------------------------------------------------------\n",
      "     Intercept      0.303      0.244      1.242      0.214     -0.175      0.781\n",
      "            X3     -0.469      0.406     -1.156      0.248     -1.265      0.326\n",
      "            X1      0.849      0.144      5.917      0.000      0.568      1.131\n",
      "            X0     -0.662      0.187     -3.536      0.000     -1.029     -0.295\n",
      "            X2      0.010      0.004      2.438      0.015      0.002      0.018\n",
      "         X0*X0      0.060      0.022      2.704      0.007      0.016      0.103\n",
      "         X3*X2     -0.010      0.005     -2.199      0.028     -0.019     -0.001\n",
      "\n",
      "\n",
      "Estimated Parameters of Propensity Score\n",
      "\n",
      "                    Coef.       S.e.          z      P>|z|      [95% Conf. int.]\n",
      "--------------------------------------------------------------------------------\n",
      "     Intercept      0.665      0.249      2.668      0.008      0.176      1.153\n",
      "            X3     -0.323      0.394     -0.820      0.412     -1.095      0.449\n",
      "            X1      1.025      0.146      7.014      0.000      0.739      1.311\n",
      "            X0     -0.751      0.189     -3.978      0.000     -1.121     -0.381\n",
      "            X2      0.012      0.004      2.709      0.007      0.003      0.020\n",
      "         X0*X0      0.066      0.022      3.025      0.002      0.023      0.109\n",
      "         X3*X2     -0.012      0.005     -2.565      0.010     -0.021     -0.003\n",
      "\n",
      "\n",
      "Estimated Parameters of Propensity Score\n",
      "\n",
      "                    Coef.       S.e.          z      P>|z|      [95% Conf. int.]\n",
      "--------------------------------------------------------------------------------\n",
      "     Intercept      0.780      0.256      3.042      0.002      0.277      1.282\n",
      "            X3     -0.438      0.387     -1.130      0.258     -1.197      0.321\n",
      "            X1      1.371      0.153      8.953      0.000      1.071      1.671\n",
      "            X0     -0.687      0.190     -3.612      0.000     -1.060     -0.314\n",
      "            X2      0.010      0.004      2.187      0.029      0.001      0.018\n",
      "         X0*X0      0.060      0.021      2.811      0.005      0.018      0.102\n",
      "         X3*X2     -0.009      0.005     -1.903      0.057     -0.018      0.000\n",
      "\n",
      "\n",
      "Estimated Parameters of Propensity Score\n",
      "\n",
      "                    Coef.       S.e.          z      P>|z|      [95% Conf. int.]\n",
      "--------------------------------------------------------------------------------\n",
      "     Intercept      1.035      0.264      3.915      0.000      0.517      1.554\n",
      "            X3     -1.104      0.162     -6.799      0.000     -1.422     -0.785\n",
      "            X1      1.483      0.160      9.296      0.000      1.171      1.796\n",
      "            X0     -0.438      0.150     -2.922      0.003     -0.732     -0.144\n",
      "         X0*X0      0.041      0.018      2.306      0.021      0.006      0.077\n",
      "\n",
      "\n",
      "Estimated Parameters of Propensity Score\n",
      "\n",
      "                    Coef.       S.e.          z      P>|z|      [95% Conf. int.]\n",
      "--------------------------------------------------------------------------------\n",
      "     Intercept      1.629      0.284      5.736      0.000      1.072      2.186\n",
      "            X3     -1.240      0.165     -7.528      0.000     -1.563     -0.917\n",
      "            X1      1.427      0.173      8.228      0.000      1.087      1.767\n",
      "            X0     -0.547      0.157     -3.485      0.000     -0.855     -0.239\n",
      "         X0*X0      0.054      0.018      2.969      0.003      0.018      0.090\n",
      "\n",
      "\n",
      "Estimated Parameters of Propensity Score\n",
      "\n",
      "                    Coef.       S.e.          z      P>|z|      [95% Conf. int.]\n",
      "--------------------------------------------------------------------------------\n",
      "     Intercept      1.836      0.296      6.207      0.000      1.256      2.415\n",
      "            X3     -1.198      0.167     -7.166      0.000     -1.525     -0.870\n",
      "            X1      1.400      0.183      7.658      0.000      1.042      1.758\n",
      "            X0     -0.520      0.162     -3.217      0.001     -0.837     -0.203\n",
      "         X0*X0      0.047      0.019      2.488      0.013      0.010      0.083\n",
      "\n",
      "\n",
      "Estimated Parameters of Propensity Score\n",
      "\n",
      "                    Coef.       S.e.          z      P>|z|      [95% Conf. int.]\n",
      "--------------------------------------------------------------------------------\n",
      "     Intercept      1.442      0.155      9.292      0.000      1.138      1.746\n",
      "            X3     -1.375      0.162     -8.466      0.000     -1.693     -1.056\n",
      "            X1      1.339      0.191      7.001      0.000      0.964      1.714\n",
      "            X2     -0.005      0.002     -3.000      0.003     -0.009     -0.002\n",
      "\n",
      "\n",
      "Estimated Parameters of Propensity Score\n",
      "\n",
      "                    Coef.       S.e.          z      P>|z|      [95% Conf. int.]\n",
      "--------------------------------------------------------------------------------\n",
      "     Intercept      2.234      0.326      6.859      0.000      1.596      2.873\n",
      "            X3     -1.025      0.192     -5.344      0.000     -1.400     -0.649\n",
      "            X1      1.172      0.461      2.542      0.011      0.268      2.075\n",
      "            X2     -0.025      0.008     -3.181      0.001     -0.040     -0.009\n",
      "         X2*X2      0.000      0.000      2.350      0.019      0.000      0.000\n",
      "         X3*X1     -1.520      0.548     -2.774      0.006     -2.595     -0.446\n",
      "         X1*X2      0.014      0.007      2.027      0.043      0.000      0.027\n",
      "\n"
     ]
    }
   ],
   "source": [
    "for treat in treats:\n",
    "    causal = CausalModel(Y=toulouse['prix_m2'].values, \n",
    "                         D=toulouse[treat].values, \n",
    "                         X=toulouse[['nombre_pieces_principales', 'grande_zone', 'surface_reelle_bati', 'type_local']].values)\n",
    "    #causal.stratify_s()\n",
    "    #print(causal.strata)\n",
    "    causal.est_propensity_s()\n",
    "    print(causal.propensity)"
   ]
  },
  {
   "cell_type": "markdown",
   "metadata": {},
   "source": [
    "### Estimate the average effect of the treatment "
   ]
  },
  {
   "cell_type": "code",
   "execution_count": 222,
   "metadata": {},
   "outputs": [
    {
     "name": "stderr",
     "output_type": "stream",
     "text": [
      "C:\\Users\\amaur\\Anaconda3\\lib\\site-packages\\causalinference\\estimators\\matching.py:100: FutureWarning: `rcond` parameter will change to the default of machine precision times ``max(M, N)`` where M and N are the input matrix dimensions.\n",
      "To use the future default and silence this warning we advise to pass `rcond=None`, to keep using the old, explicitly pass `rcond=-1`.\n",
      "  return np.linalg.lstsq(X, Y)[0][1:]  # don't need intercept coef\n"
     ]
    },
    {
     "name": "stdout",
     "output_type": "stream",
     "text": [
      "\n",
      "Treatment Effect Estimates: Matching\n",
      "\n",
      "                     Est.       S.e.          z      P>|z|      [95% Conf. int.]\n",
      "--------------------------------------------------------------------------------\n",
      "           ATE    141.581    112.199      1.262      0.207    -78.329    361.491\n",
      "           ATC    124.254    123.783      1.004      0.315   -118.362    366.869\n",
      "           ATT    225.733     94.342      2.393      0.017     40.822    410.644\n",
      "\n",
      "\n",
      "Treatment Effect Estimates: Matching\n",
      "\n",
      "                     Est.       S.e.          z      P>|z|      [95% Conf. int.]\n",
      "--------------------------------------------------------------------------------\n",
      "           ATE    258.170     91.623      2.818      0.005     78.589    437.752\n",
      "           ATC    248.861    103.684      2.400      0.016     45.641    452.082\n",
      "           ATT    287.361     86.170      3.335      0.001    118.467    456.255\n",
      "\n",
      "\n",
      "Treatment Effect Estimates: Matching\n",
      "\n",
      "                     Est.       S.e.          z      P>|z|      [95% Conf. int.]\n",
      "--------------------------------------------------------------------------------\n",
      "           ATE    272.617     80.712      3.378      0.001    114.422    430.813\n",
      "           ATC    241.539     92.825      2.602      0.009     59.602    423.476\n",
      "           ATT    341.264     83.300      4.097      0.000    177.997    504.532\n",
      "\n",
      "\n",
      "Treatment Effect Estimates: Matching\n",
      "\n",
      "                     Est.       S.e.          z      P>|z|      [95% Conf. int.]\n",
      "--------------------------------------------------------------------------------\n",
      "           ATE    228.951     78.079      2.932      0.003     75.916    381.987\n",
      "           ATC    175.098     90.543      1.934      0.053     -2.366    352.562\n",
      "           ATT    322.250     86.774      3.714      0.000    152.173    492.327\n",
      "\n",
      "\n",
      "Treatment Effect Estimates: Matching\n",
      "\n",
      "                     Est.       S.e.          z      P>|z|      [95% Conf. int.]\n",
      "--------------------------------------------------------------------------------\n",
      "           ATE    214.147     76.691      2.792      0.005     63.832    364.463\n",
      "           ATC    153.041     87.883      1.741      0.082    -19.210    325.292\n",
      "           ATT    299.679     91.024      3.292      0.001    121.272    478.087\n",
      "\n",
      "\n",
      "Treatment Effect Estimates: Matching\n",
      "\n",
      "                     Est.       S.e.          z      P>|z|      [95% Conf. int.]\n",
      "--------------------------------------------------------------------------------\n",
      "           ATE    220.597     76.666      2.877      0.004     70.333    370.862\n",
      "           ATC    164.316     85.808      1.915      0.056     -3.868    332.499\n",
      "           ATT    287.225     96.378      2.980      0.003     98.323    476.126\n",
      "\n",
      "\n",
      "Treatment Effect Estimates: Matching\n",
      "\n",
      "                     Est.       S.e.          z      P>|z|      [95% Conf. int.]\n",
      "--------------------------------------------------------------------------------\n",
      "           ATE    228.388     81.901      2.789      0.005     67.862    388.914\n",
      "           ATC    162.015     83.901      1.931      0.053     -2.431    326.461\n",
      "           ATT    291.287    110.618      2.633      0.008     74.476    508.099\n",
      "\n",
      "\n",
      "Treatment Effect Estimates: Matching\n",
      "\n",
      "                     Est.       S.e.          z      P>|z|      [95% Conf. int.]\n",
      "--------------------------------------------------------------------------------\n",
      "           ATE    237.858     81.201      2.929      0.003     78.704    397.011\n",
      "           ATC    134.998     78.594      1.718      0.086    -19.046    289.041\n",
      "           ATT    321.662    109.247      2.944      0.003    107.537    535.786\n",
      "\n",
      "\n",
      "Treatment Effect Estimates: Matching\n",
      "\n",
      "                     Est.       S.e.          z      P>|z|      [95% Conf. int.]\n",
      "--------------------------------------------------------------------------------\n",
      "           ATE    186.220     82.200      2.265      0.023     25.107    347.332\n",
      "           ATC    109.229     76.846      1.421      0.155    -41.388    259.847\n",
      "           ATT    240.019    108.046      2.221      0.026     28.248    451.790\n",
      "\n",
      "\n",
      "Treatment Effect Estimates: Matching\n",
      "\n",
      "                     Est.       S.e.          z      P>|z|      [95% Conf. int.]\n",
      "--------------------------------------------------------------------------------\n",
      "           ATE    241.949     95.737      2.527      0.011     54.305    429.594\n",
      "           ATC    102.343     77.800      1.315      0.188    -50.145    254.831\n",
      "           ATT    328.275    130.901      2.508      0.012     71.710    584.841\n",
      "\n"
     ]
    }
   ],
   "source": [
    "for treat in treats:\n",
    "    causal = CausalModel(Y=toulouse['prix_m2'].values, \n",
    "                         D=toulouse[treat].values, \n",
    "                         X=toulouse[['nombre_pieces_principales', 'grande_zone', 'surface_reelle_bati', 'type_local']].values)\n",
    "    causal.est_via_matching(bias_adj=True, matches = 5)\n",
    "    print(causal.estimates)"
   ]
  },
  {
   "cell_type": "code",
   "execution_count": 231,
   "metadata": {},
   "outputs": [],
   "source": [
    "ATE  = [141, 258, 272, 228, 214, 220, 228, 237, 186, 241]"
   ]
  },
  {
   "cell_type": "code",
   "execution_count": 233,
   "metadata": {},
   "outputs": [],
   "source": [
    "distance = [400, 500, 600, 700, 800, 900, 1000, 1100, 1200, 1300]"
   ]
  },
  {
   "cell_type": "code",
   "execution_count": 234,
   "metadata": {},
   "outputs": [
    {
     "data": {
      "text/plain": [
       "Text(0.5, 0, '[400, 500, 600, 700, 800, 900, 1000, 1100, 1200, 1300]')"
      ]
     },
     "execution_count": 234,
     "metadata": {},
     "output_type": "execute_result"
    },
    {
     "data": {
      "image/png": "[encoded data removed]",
      "text/plain": [
       "<Figure size 432x288 with 1 Axes>"
      ]
     },
     "metadata": {
      "needs_background": "light"
     },
     "output_type": "display_data"
    }
   ],
   "source": [
    "plt.plot(ATE)\n",
    "plt.xlabel(distance)"
   ]
  },
  {
   "cell_type": "code",
   "execution_count": null,
   "metadata": {},
   "outputs": [],
   "source": []
  }
 ],
 "metadata": {
  "kernelspec": {
   "display_name": "Python 3",
   "language": "python",
   "name": "python3"
  },
  "language_info": {
   "codemirror_mode": {
    "name": "ipython",
    "version": 3
   },
   "file_extension": ".py",
   "mimetype": "text/x-python",
   "name": "python",
   "nbconvert_exporter": "python",
   "pygments_lexer": "ipython3",
   "version": "3.7.6"
  }
 },
 "nbformat": 4,
 "nbformat_minor": 4
}
